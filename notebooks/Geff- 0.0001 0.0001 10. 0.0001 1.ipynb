{
 "cells": [
  {
   "cell_type": "code",
   "execution_count": 1,
   "id": "b80c9547",
   "metadata": {},
   "outputs": [],
   "source": [
    "%matplotlib inline\n",
    "import matplotlib\n",
    "import matplotlib.pyplot as plt\n",
    "import numpy as np\n",
    "from classy import Class\n",
    "from scipy.optimize import fsolve\n",
    "from scipy.interpolate import interp1d\n",
    "import math"
   ]
  },
  {
   "cell_type": "code",
   "execution_count": 2,
   "id": "17027ea7",
   "metadata": {},
   "outputs": [],
   "source": [
    "font = {'size'   : 16, 'family':'STIXGeneral'}\n",
    "axislabelfontsize='large'\n",
    "matplotlib.rc('font', **font)\n",
    "matplotlib.mathtext.rcParams['legend.fontsize']='medium'\n",
    "plt.rcParams[\"figure.figsize\"] = [8.0,6.0]\n",
    "\n",
    "#\n",
    "  # 1/Mpc\n",
    "#\n",
    "# Cosmological parameters and other CLASS parameters\n",
    "#\n",
    "common_settings = {# we need to set the output field to something although\n",
    "                   # the really releveant outpout here will be set with 'k_output_values'\n",
    "                   'output':'tCl,pCl,lCl,mPk,mTk',\n",
    "                   # value of k we want to polot in [1/Mpc]\n",
    "                   'k_output_values': 0.00001,\n",
    "                   # LambdaCDM parameters\n",
    "                   'Omega_Lambda':0, \n",
    "                   'Omega_fld':0,\n",
    "                   'Omega_smg' : -1,\n",
    "                   'gravity_model' :'propto_omega',\n",
    "                   'parameters_smg' :'0.0001, 0.0001, 10., 0.0001, 1.',\n",
    "                   'expansion_model' :'lcdm',\n",
    "                   'expansion_smg' : 0.5,\n",
    "                   'output_background_smg' :10,\n",
    "                   'skip_stability_tests_smg' : 'no',\n",
    "                   'cs2_safe_smg' : 0.,\n",
    "                   'D_safe_smg' : 0.,\n",
    "                   'ct2_safe_smg' :0.,\n",
    "                   'M2_safe_smg' : 0.,\n",
    "                   'a_min_stability_test_smg' : 0.0001,\n",
    "    \n",
    "    \n",
    "                   # Take fixed value for primordial Helium (instead of automatic BBN adjustment)\n",
    "                   'hubble_evolution' : 'y',\n",
    "                   'hubble_friction' :3.,\n",
    "                   'pert_initial_conditions_smg' : 'ext_field_attr',\n",
    "                   \n",
    "                   # other options and settings\n",
    "                   'pert_ic_ini_z_ref_smg' : 1e10,    \n",
    "                   'pert_ic_tolerance_smg' : 2e-2, \n",
    "                   'pert_ic_regulator_smg' : 1e-15,\n",
    "                   'pert_qs_ic_tolerance_test_smg' : 10,\n",
    "                   'method_qs_smg' : 'fully_dynamic',\n",
    "                   'z_fd_qs_smg' : 10.,\n",
    "                   'trigger_mass_qs_smg' : 1.e3,\n",
    "                   'trigger_rad_qs_smg' : 1.e3, \n",
    "                   'eps_s_qs_smg' : 0.01,\n",
    "                   'n_min_qs_smg' : 1e2,\n",
    "                   'n_max_qs_smg' : 1e4,\n",
    "                   'start_small_k_at_tau_c_over_tau_h' : 1e-4,\n",
    "                   'start_large_k_at_tau_h_over_tau_k' : 1e-4,\n",
    "                   'perturb_sampling_stepsize' : 0.05,\n",
    "                   'l_logstep' : 1.045,\n",
    "                   'l_linstep' : 50,\n",
    "                   'gauge':'synchronous'}  "
   ]
  },
  {
   "cell_type": "code",
   "execution_count": 3,
   "id": "3c85600e",
   "metadata": {},
   "outputs": [],
   "source": [
    "# call CLASS\n",
    "#\n",
    "M = Class()\n",
    "M.set(common_settings)\n",
    "M.compute()"
   ]
  },
  {
   "cell_type": "code",
   "execution_count": 4,
   "id": "3d9a7fa2",
   "metadata": {},
   "outputs": [],
   "source": [
    "transfer = M.get_transfer()  # this potentially constains scalars/tensors and all k values"
   ]
  },
  {
   "cell_type": "code",
   "execution_count": 5,
   "id": "a34db03c",
   "metadata": {
    "scrolled": false
   },
   "outputs": [
    {
     "data": {
      "text/plain": [
       "array([0.16272498, 0.1627157 , 0.16271019, 0.16270801, 0.16270731,\n",
       "       0.16270699, 0.16270683, 0.16270673, 0.16270666, 0.16270662,\n",
       "       0.16270659, 0.16270657, 0.16270655, 0.16270654, 0.16270653,\n",
       "       0.16270652, 0.16270651, 0.16270651, 0.1627065 , 0.1627065 ,\n",
       "       0.16270649, 0.16270649, 0.16270649, 0.16270649, 0.16270649,\n",
       "       0.16270648, 0.16270648, 0.16270648, 0.16270648, 0.16270648,\n",
       "       0.16270648, 0.16270648, 0.16270648, 0.16270648, 0.16270648,\n",
       "       0.16270648, 0.16270648, 0.16270648, 0.16270647, 0.16270647,\n",
       "       0.16270647, 0.16270647, 0.16270647, 0.16270647, 0.16270647,\n",
       "       0.16270647, 0.16270647, 0.16270647, 0.16270647, 0.16270647,\n",
       "       0.16270647, 0.16270647, 0.16270647, 0.16270647, 0.16270647,\n",
       "       0.16270647, 0.16270647, 0.16270647, 0.16270647, 0.16270647,\n",
       "       0.16270647, 0.16270647, 0.16270647, 0.16270647, 0.16270647,\n",
       "       0.16270647, 0.16270647, 0.16270647, 0.16270647, 0.16270647,\n",
       "       0.16270647, 0.16270647, 0.16270647, 0.16270647, 0.16270647,\n",
       "       0.16270647, 0.16270647, 0.16270647, 0.16270647, 0.16270647,\n",
       "       0.16270647, 0.16270647, 0.16270647, 0.16270647, 0.16270647,\n",
       "       0.16270647, 0.16270647, 0.16270647, 0.16270647, 0.16270647,\n",
       "       0.16270647, 0.16270647, 0.16270647, 0.16270647, 0.16270647,\n",
       "       0.16270647, 0.16270647, 0.16270647, 0.16270647, 0.16270647,\n",
       "       0.16270647, 0.16270647, 0.16270647, 0.16270647, 0.16270647,\n",
       "       0.16270647, 0.16270647, 0.16270647, 0.16270647, 0.16270647,\n",
       "       0.16270647, 0.16270647, 0.16270647, 0.16270647, 0.16270647,\n",
       "       0.16270647, 0.16270647, 0.16270647, 0.16270647, 0.16270647,\n",
       "       0.16270647, 0.16270647, 0.16270647, 0.16270647, 0.16270647,\n",
       "       0.16270647, 0.16270647, 0.16270647, 0.16270647, 0.16270647,\n",
       "       0.16270647, 0.16270647, 0.16270647, 0.16270647, 0.16270647,\n",
       "       0.16270647, 0.16270647, 0.16270647, 0.16270647, 0.16270647,\n",
       "       0.16270647, 0.16270647, 0.16270647, 0.16270647, 0.16270647,\n",
       "       0.16270647, 0.16270647, 0.16270647, 0.16270647, 0.16270647,\n",
       "       0.16270647, 0.16270647, 0.16270647, 0.16270647, 0.16270647,\n",
       "       0.16270647, 0.16270647, 0.16270647, 0.16270647, 0.16270647,\n",
       "       0.16270647, 0.16270647, 0.16270647, 0.16270647, 0.16270647,\n",
       "       0.16270647, 0.16270647, 0.16270647, 0.16270647, 0.16270647,\n",
       "       0.16270647, 0.16270647, 0.16270647, 0.16270647, 0.16270647,\n",
       "       0.16270647, 0.16270647, 0.16270647, 0.16270647, 0.16270647,\n",
       "       0.16270647, 0.16270647, 0.16270647, 0.16270647, 0.16270647,\n",
       "       0.16270647, 0.16270647, 0.16270647, 0.16270647, 0.16270647,\n",
       "       0.16270647, 0.16270647, 0.16270647, 0.16270647, 0.16270647,\n",
       "       0.16270647, 0.16270647, 0.16270647, 0.16270647, 0.16270647,\n",
       "       0.16270647, 0.16270647, 0.16270647, 0.16270647, 0.16270647,\n",
       "       0.16270647, 0.16270647, 0.16270647, 0.16270647, 0.16270647,\n",
       "       0.16270647, 0.16270647, 0.16270647, 0.16270647, 0.16270647,\n",
       "       0.16270647, 0.16270647, 0.16270647, 0.16270647, 0.16270647,\n",
       "       0.16270647, 0.16270647, 0.16270647, 0.16270647, 0.16270647,\n",
       "       0.16270647, 0.16270647, 0.16270647, 0.16270647, 0.16270647,\n",
       "       0.16270647, 0.16270647, 0.16270647, 0.16270647, 0.16270647,\n",
       "       0.16270647, 0.16270647, 0.16270647, 0.16270647, 0.16270647,\n",
       "       0.16270647, 0.16270647, 0.16270647, 0.16270647, 0.16270647,\n",
       "       0.16270647, 0.16270647, 0.16270647, 0.16270647, 0.16270647,\n",
       "       0.16270647, 0.16270647, 0.16270647, 0.16270647, 0.16270647,\n",
       "       0.16270647, 0.16270647, 0.16270647, 0.16270647, 0.16270647,\n",
       "       0.16270647, 0.16270647, 0.16270647, 0.16270647, 0.16270647,\n",
       "       0.16270647, 0.16270647, 0.16270647, 0.16270647, 0.16270647,\n",
       "       0.16270647, 0.16270647, 0.16270647, 0.16270647, 0.16270647,\n",
       "       0.16270647, 0.16270647, 0.16270647, 0.16270647, 0.16270647,\n",
       "       0.16270647, 0.16270647, 0.16270647, 0.16270647, 0.16270647,\n",
       "       0.16270647, 0.16270647, 0.16270647, 0.16270647, 0.16270647,\n",
       "       0.16270647, 0.16270647, 0.16270647, 0.16270647, 0.16270647,\n",
       "       0.16270647, 0.16270647, 0.16270647, 0.16270647, 0.16270647,\n",
       "       0.16270647, 0.16270647, 0.16270647, 0.16270647, 0.16270647,\n",
       "       0.16270647, 0.16270647, 0.16270647, 0.16270647, 0.16270647,\n",
       "       0.16270647, 0.16270647, 0.16270647, 0.16270647, 0.16270647,\n",
       "       0.16270647, 0.16270647, 0.16270647, 0.16270647, 0.16270647,\n",
       "       0.16270647, 0.16270647, 0.16270647, 0.16270647, 0.16270647,\n",
       "       0.16270647, 0.16270647, 0.16270647, 0.16270647, 0.16270647,\n",
       "       0.16270647, 0.16270647, 0.16270647, 0.16270647, 0.16270647,\n",
       "       0.16270647, 0.16270647, 0.16270647, 0.16270647, 0.16270647,\n",
       "       0.16270647, 0.16270647, 0.16270647, 0.16270647, 0.16270647,\n",
       "       0.16270647, 0.16270647, 0.16270647, 0.16270647, 0.16270647,\n",
       "       0.16270647, 0.16270647, 0.16270647, 0.16270647, 0.16270647,\n",
       "       0.16270647, 0.16270647, 0.16270647, 0.16270647, 0.16270647,\n",
       "       0.16270647, 0.16270647, 0.16270647, 0.16270647, 0.16270647,\n",
       "       0.16270647, 0.16270647, 0.16270647, 0.16270647, 0.16270647,\n",
       "       0.16270647, 0.16270647, 0.16270647, 0.16270647, 0.16270647,\n",
       "       0.16270647, 0.16270647, 0.16270647, 0.16270647, 0.16270647,\n",
       "       0.16270647, 0.16270647, 0.16270647, 0.16270647, 0.16270647,\n",
       "       0.16270647, 0.16270647, 0.16270647, 0.16270647, 0.16270647,\n",
       "       0.16270647, 0.16270647, 0.16270647, 0.16270647, 0.16270647,\n",
       "       0.16270647, 0.16270647, 0.16270647, 0.16270647, 0.16270647,\n",
       "       0.16270647, 0.16270647, 0.16270647, 0.16270647, 0.16270647,\n",
       "       0.16270647, 0.16270647, 0.16270647, 0.16270647, 0.16270647,\n",
       "       0.16270647, 0.16270647, 0.16270647, 0.16270647, 0.16270647,\n",
       "       0.16270647, 0.16270647, 0.16270647, 0.16270647, 0.16270647,\n",
       "       0.16270647, 0.16270647, 0.16270647, 0.16270647, 0.16270647,\n",
       "       0.16270647, 0.16270647, 0.16270647, 0.16270647, 0.16270647,\n",
       "       0.16270647, 0.16270647, 0.16270647, 0.16270647, 0.16270647,\n",
       "       0.16270647, 0.16270647, 0.16270647, 0.16270647, 0.16270647,\n",
       "       0.16270647, 0.16270647, 0.16270647, 0.16270647, 0.16270647,\n",
       "       0.16270647, 0.16270647, 0.16270647, 0.16270647, 0.16270647,\n",
       "       0.16270647, 0.16270647, 0.16270647, 0.16270647, 0.16270647,\n",
       "       0.16270647, 0.16270647, 0.16270647, 0.16270647, 0.16270647,\n",
       "       0.16270647, 0.16270647, 0.16270647, 0.16270647, 0.16270647,\n",
       "       0.16270647, 0.16270647, 0.16270647, 0.16270647, 0.16270647,\n",
       "       0.16270647, 0.16270647, 0.16270647, 0.16270647, 0.16270647,\n",
       "       0.16270647, 0.16270647, 0.16270647, 0.16270647, 0.16270647,\n",
       "       0.16270647, 0.16270647, 0.16270647, 0.16270647, 0.16270647,\n",
       "       0.16270647, 0.16270647, 0.16270647, 0.16270647, 0.16270647,\n",
       "       0.16270647, 0.16270647, 0.16270647, 0.16270647, 0.16270647,\n",
       "       0.16270647, 0.16270647, 0.16270647, 0.16270647, 0.16270647,\n",
       "       0.16270647, 0.16270647, 0.16270647, 0.16270647, 0.16270647,\n",
       "       0.16270647, 0.16270647, 0.16270647, 0.16270647, 0.16270647,\n",
       "       0.16270647, 0.16270647, 0.16270647, 0.16270647, 0.16270647,\n",
       "       0.16270647, 0.16270647, 0.16270647, 0.16270647, 0.16270647,\n",
       "       0.16270647, 0.16270647, 0.16270647, 0.16270647, 0.16270647,\n",
       "       0.16270647, 0.16270647, 0.16270647, 0.16270647, 0.16270647,\n",
       "       0.16270647, 0.16270647, 0.16270647, 0.16270647, 0.16270647,\n",
       "       0.16270647, 0.16270647, 0.16270647, 0.16270647, 0.16270647,\n",
       "       0.16270647, 0.16270647, 0.16270647, 0.16270647, 0.16270647,\n",
       "       0.16270647, 0.16270647, 0.16270647, 0.16270647, 0.16270647,\n",
       "       0.16270647, 0.16270647, 0.16270647, 0.16270647, 0.16270647,\n",
       "       0.16270647, 0.16270647, 0.16270647, 0.16270647, 0.16270647,\n",
       "       0.16270647, 0.16270647, 0.16270647, 0.16270647, 0.16270647,\n",
       "       0.16270647, 0.16270647, 0.16270647, 0.16270647, 0.16270647])"
      ]
     },
     "execution_count": 5,
     "metadata": {},
     "output_type": "execute_result"
    }
   ],
   "source": [
    "transfer['Geff_smg']"
   ]
  },
  {
   "cell_type": "code",
   "execution_count": 6,
   "id": "e10de7b4",
   "metadata": {},
   "outputs": [
    {
     "data": {
      "image/png": "[encoded data removed]",
      "text/plain": [
       "<Figure size 576x432 with 1 Axes>"
      ]
     },
     "metadata": {
      "needs_background": "light"
     },
     "output_type": "display_data"
    }
   ],
   "source": [
    "plt.plot(transfer['k (h/Mpc)'], transfer['Geff_smg'], 'r--')\n",
    "plt.xscale('log')\n",
    "plt.show()"
   ]
  },
  {
   "cell_type": "code",
   "execution_count": null,
   "id": "ba820adc",
   "metadata": {},
   "outputs": [],
   "source": []
  },
  {
   "cell_type": "code",
   "execution_count": null,
   "id": "899ac2a5",
   "metadata": {},
   "outputs": [],
   "source": []
  }
 ],
 "metadata": {
  "kernelspec": {
   "display_name": "Python 3 (ipykernel)",
   "language": "python",
   "name": "python3"
  },
  "language_info": {
   "codemirror_mode": {
    "name": "ipython",
    "version": 3
   },
   "file_extension": ".py",
   "mimetype": "text/x-python",
   "name": "python",
   "nbconvert_exporter": "python",
   "pygments_lexer": "ipython3",
   "version": "3.9.7"
  }
 },
 "nbformat": 4,
 "nbformat_minor": 5
}
