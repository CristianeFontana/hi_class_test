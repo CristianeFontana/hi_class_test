{
 "cells": [
  {
   "cell_type": "code",
   "execution_count": 1,
   "id": "b80c9547",
   "metadata": {},
   "outputs": [],
   "source": [
    "%matplotlib inline\n",
    "import matplotlib\n",
    "import matplotlib.pyplot as plt\n",
    "import numpy as np\n",
    "from classy import Class\n",
    "from scipy.optimize import fsolve\n",
    "from scipy.interpolate import interp1d\n",
    "import math"
   ]
  },
  {
   "cell_type": "code",
   "execution_count": 2,
   "id": "17027ea7",
   "metadata": {},
   "outputs": [],
   "source": [
    "font = {'size'   : 16, 'family':'STIXGeneral'}\n",
    "axislabelfontsize='large'\n",
    "matplotlib.rc('font', **font)\n",
    "matplotlib.mathtext.rcParams['legend.fontsize']='medium'\n",
    "plt.rcParams[\"figure.figsize\"] = [8.0,6.0]\n",
    "\n",
    "#\n",
    "  # 1/Mpc\n",
    "#\n",
    "# Cosmological parameters and other CLASS parameters\n",
    "#\n",
    "common_settings = {# we need to set the output field to something although\n",
    "                   # the really releveant outpout here will be set with 'k_output_values'\n",
    "                   'output':'tCl,pCl,lCl,mPk,mTk',\n",
    "                   # value of k we want to polot in [1/Mpc]\n",
    "                   'k_output_values': 0.01,\n",
    "                   # LambdaCDM parameters\n",
    "                   'Omega_Lambda':0, \n",
    "                   'Omega_fld':0,\n",
    "                   'Omega_smg' : -1,\n",
    "                   'gravity_model' :'propto_omega',\n",
    "                   # k, b, m, t\n",
    "                   #'parameters_smg' :'1., 0., 0., 0., 1.',\n",
    "                   #'parameters_smg' :'1., 0.625, 0., 0., 1.',\n",
    "                   #'parameters_smg' :'1., 1.25, 0., 0., 1.',\n",
    "                   'parameters_smg' :'1., 0., 0.625, 0., 1.',\n",
    "                   #'parameters_smg' :'1., 0., 1.25, 0., 1.',\n",
    "                   'expansion_model' :'lcdm',\n",
    "                   'expansion_smg' : 0.5,\n",
    "                   'output_background_smg' :10,\n",
    "                   'skip_stability_tests_smg' : 'no',\n",
    "                   'cs2_safe_smg' : 0.,\n",
    "                   'D_safe_smg' : 0.,\n",
    "                   'ct2_safe_smg' :0.,\n",
    "                   'M2_safe_smg' : 0.,\n",
    "                   'a_min_stability_test_smg' : 0.0001,\n",
    "    \n",
    "    \n",
    "                   # Take fixed value for primordial Helium (instead of automatic BBN adjustment)\n",
    "                   'hubble_evolution' : 'y',\n",
    "                   'hubble_friction' :3.,\n",
    "                   'pert_initial_conditions_smg' : 'ext_field_attr',\n",
    "                   \n",
    "                   # other options and settings\n",
    "                   'pert_ic_ini_z_ref_smg' : 1e10,    \n",
    "                   'pert_ic_tolerance_smg' : 2e-2, \n",
    "                   'pert_ic_regulator_smg' : 1e-15,\n",
    "                   'pert_qs_ic_tolerance_test_smg' : 10,\n",
    "                   'method_qs_smg' : 'fully_dynamic',\n",
    "                   'z_fd_qs_smg' : 10.,\n",
    "                   'trigger_mass_qs_smg' : 1.e3,\n",
    "                   'trigger_rad_qs_smg' : 1.e3, \n",
    "                   'eps_s_qs_smg' : 0.01,\n",
    "                   'n_min_qs_smg' : 1e2,\n",
    "                   'n_max_qs_smg' : 1e4,\n",
    "                   'start_small_k_at_tau_c_over_tau_h' : 1e-4,\n",
    "                   'start_large_k_at_tau_h_over_tau_k' : 1e-4,\n",
    "                   'perturb_sampling_stepsize' : 0.05,\n",
    "                   'l_logstep' : 1.045,\n",
    "                   'l_linstep' : 50,\n",
    "                   'gauge':'synchronous'}  "
   ]
  },
  {
   "cell_type": "code",
   "execution_count": 3,
   "id": "3c85600e",
   "metadata": {},
   "outputs": [],
   "source": [
    "# call CLASS\n",
    "#\n",
    "M = Class()\n",
    "M.set(common_settings)\n",
    "M.compute()"
   ]
  },
  {
   "cell_type": "code",
   "execution_count": 4,
   "id": "3d9a7fa2",
   "metadata": {},
   "outputs": [
    {
     "name": "stdout",
     "output_type": "stream",
     "text": [
      "dict_keys(['k (h/Mpc)', 'd_g', 'd_b', 'd_cdm', 'd_ur', 'd_tot', 'phi', 'psi', 'Geff_smg'])\n"
     ]
    }
   ],
   "source": [
    "transfer = M.get_transfer() #Geff_smg(k) para z fixo\n",
    "print(transfer.keys())"
   ]
  },
  {
   "cell_type": "code",
   "execution_count": 5,
   "id": "918358c4",
   "metadata": {
    "scrolled": true
   },
   "outputs": [
    {
     "name": "stdout",
     "output_type": "stream",
     "text": [
      "dict_keys(['tau [Mpc]', 'a', 'delta_g', 'theta_g', 'shear_g', 'pol0_g', 'pol1_g', 'pol2_g', 'delta_b', 'theta_b', 'psi', 'phi', 'delta_ur', 'theta_ur', 'shear_ur', 'delta_cdm', 'theta_cdm', 'V_x_smg', 'V_x_prime_smg', 'h_prime', 'eta', 'Geff_smg'])\n"
     ]
    }
   ],
   "source": [
    "all_k = M.get_perturbations() #Geff_smg(a) para k fixo\n",
    "print(all_k['scalar'][0].keys())"
   ]
  },
  {
   "cell_type": "code",
   "execution_count": 6,
   "id": "535e5fef",
   "metadata": {
    "scrolled": true
   },
   "outputs": [
    {
     "data": {
      "text/plain": [
       "array([1.        , 1.        , 1.        , ..., 0.97157332, 0.97155139,\n",
       "       0.97154343])"
      ]
     },
     "execution_count": 6,
     "metadata": {},
     "output_type": "execute_result"
    }
   ],
   "source": [
    "perturb = all_k['scalar'][0] \n",
    "perturb['Geff_smg']"
   ]
  },
  {
   "cell_type": "code",
   "execution_count": 7,
   "id": "0fcb4285",
   "metadata": {
    "scrolled": false
   },
   "outputs": [
    {
     "data": {
      "image/png": "[encoded data removed]",
      "text/plain": [
       "<Figure size 576x432 with 1 Axes>"
      ]
     },
     "metadata": {
      "needs_background": "light"
     },
     "output_type": "display_data"
    }
   ],
   "source": [
    "plt.plot(perturb['a'], perturb['Geff_smg'], 'r--')\n",
    "plt.show()"
   ]
  },
  {
   "cell_type": "code",
   "execution_count": 8,
   "id": "6a26dbb7",
   "metadata": {},
   "outputs": [
    {
     "name": "stdout",
     "output_type": "stream",
     "text": [
      "dict_keys(['z', 'proper time [Gyr]', 'conf. time [Mpc]', 'H [1/Mpc]', 'comov. dist.', 'ang.diam.dist.', 'lum. dist.', 'comov.snd.hrz.', '(.)rho_g', '(.)rho_b', '(.)rho_cdm', '(.)rho_ur', '(.)rho_crit', 'gr.fac. D', 'gr.fac. f', '(.)rho_smg', '(.)p_smg', 'M*^2_smg', 'D_M*^2_smg', 'kineticity_smg', 'braiding_smg', 'tensor_excess_smg', 'Mpl_running_smg', 'c_s^2', 'kin (D)', 'kineticity_prime_smg', 'braiding_prime_smg', 'lambda_1', 'lambda_2', 'lambda_3', 'lambda_4', 'lambda_5', 'lambda_6', 'lambda_7', 'lambda_8', 'lambda_9', 'lambda_10', 'lambda_11', 'lambda_2_p', 'lambda_8_p', 'lambda_9_p', 'lambda_11_p', 'cs2num', 'cs2num_p', 'H_prime', 'H_prime_prime', 'rho_m'])\n"
     ]
    }
   ],
   "source": [
    "back = M.get_background() #keys disponiveis do background\n",
    "print(back.keys())"
   ]
  },
  {
   "cell_type": "code",
   "execution_count": 9,
   "id": "a34db03c",
   "metadata": {
    "scrolled": true
   },
   "outputs": [
    {
     "data": {
      "text/plain": [
       "array([0.7849374 , 0.78609405, 0.78810671, 0.79093727, 0.79453479,\n",
       "       0.79883746, 0.80377479, 0.80927001, 0.81524242, 0.82160964,\n",
       "       0.82828975, 0.83520298, 0.84227326, 0.84942937, 0.85660569,\n",
       "       0.86374283, 0.87078783, 0.87769425, 0.88442202, 0.89093719,\n",
       "       0.89721158, 0.90322238, 0.9089517 , 0.91438615, 0.91951636,\n",
       "       0.92433666, 0.92884462, 0.93304078, 0.93692832, 0.94051283,\n",
       "       0.94380206, 0.94680567, 0.94953509, 0.95200327, 0.95422447,\n",
       "       0.95621401, 0.95798803, 0.95956317, 0.9609563 , 0.96218421,\n",
       "       0.96326332, 0.96420938, 0.96503732, 0.96576102, 0.96639321,\n",
       "       0.96694546, 0.96742811, 0.96785033, 0.9682202 , 0.96854477,\n",
       "       0.96883015, 0.96908164, 0.9693038 , 0.96950054, 0.96967523,\n",
       "       0.96983076, 0.96996959, 0.97009386, 0.97020539, 0.97030575,\n",
       "       0.9703963 , 0.97047819, 0.97055244, 0.97061992, 0.97068139,\n",
       "       0.97073752, 0.97078887, 0.97083596, 0.97087923, 0.97091906,\n",
       "       0.97095579, 0.97098974, 0.97102116, 0.97105029, 0.97107735,\n",
       "       0.97110252, 0.97112597, 0.97114784, 0.97116828, 0.9711874 ,\n",
       "       0.97120532, 0.97122212, 0.9712379 , 0.97125273, 0.9712667 ,\n",
       "       0.97127986, 0.97129228, 0.971304  , 0.97131509, 0.97132558,\n",
       "       0.97133551, 0.97134493, 0.97135386, 0.97136235, 0.97137041,\n",
       "       0.97137808, 0.97138538, 0.97139234, 0.97139897, 0.9714053 ,\n",
       "       0.97141134, 0.97141711, 0.97142262, 0.9714279 , 0.97143295,\n",
       "       0.97143779, 0.97144243, 0.97144687, 0.97145114, 0.97145523,\n",
       "       0.97145916, 0.97146294, 0.97146657, 0.97147007, 0.97147343,\n",
       "       0.97147667, 0.97147979, 0.97148279, 0.97148569, 0.97148849,\n",
       "       0.97149119, 0.97149379, 0.9714963 , 0.97149873, 0.97150108,\n",
       "       0.97150335, 0.97150555, 0.97150767, 0.97150973, 0.97151172,\n",
       "       0.97151365, 0.97151552, 0.97151733, 0.97151908, 0.97152078,\n",
       "       0.97152244, 0.97152404, 0.97152559, 0.97152711, 0.97152857,\n",
       "       0.97153   , 0.97153138, 0.97153273, 0.97153404, 0.97153531,\n",
       "       0.97153655, 0.97153775, 0.97153893, 0.97154007, 0.97154118,\n",
       "       0.97154226, 0.97154332, 0.97154343, 0.97154435, 0.97154535,\n",
       "       0.97154632, 0.97154728, 0.9715482 , 0.97154911, 0.97154999,\n",
       "       0.97155086, 0.9715517 , 0.97155252, 0.97155332, 0.97155411,\n",
       "       0.97155487, 0.97155562, 0.97155635, 0.97155706, 0.97155776,\n",
       "       0.97155844, 0.97155911, 0.97155976, 0.9715604 , 0.97156103,\n",
       "       0.97156164, 0.97156223, 0.97156282, 0.97156339, 0.97156395,\n",
       "       0.9715645 , 0.97156504, 0.97156557, 0.97156608, 0.97156659,\n",
       "       0.97156709, 0.97156757, 0.97156805, 0.97156851, 0.97156897,\n",
       "       0.97156942, 0.97156986, 0.97157029, 0.97157072, 0.97157113,\n",
       "       0.97157154, 0.97157194, 0.97157233, 0.97157272, 0.9715731 ,\n",
       "       0.97157347, 0.97157383, 0.97157419, 0.97157454, 0.97157489,\n",
       "       0.97157523, 0.97157556, 0.97157589, 0.97157621, 0.97157653,\n",
       "       0.97157684, 0.97157715, 0.97157745, 0.97157774, 0.97157804,\n",
       "       0.97157832, 0.9715786 , 0.97157888, 0.97157915, 0.97157942,\n",
       "       0.97157968, 0.97157994, 0.9715802 , 0.97158045, 0.9715807 ,\n",
       "       0.97158094, 0.97158118, 0.97158142, 0.97158165, 0.97158188,\n",
       "       0.97158211, 0.97158233, 0.97158255, 0.97158276, 0.97158297,\n",
       "       0.97158318, 0.97158339, 0.97158359, 0.97158379, 0.97158399,\n",
       "       0.97158419, 0.97158438, 0.97158457, 0.97158475, 0.97158494,\n",
       "       0.97158512, 0.9715853 , 0.97158548, 0.97158565, 0.97158582,\n",
       "       0.97158599, 0.97158616, 0.97158632, 0.97158649, 0.97158665,\n",
       "       0.97158681, 0.97158696, 0.97158712, 0.97158727, 0.97158742,\n",
       "       0.97158757, 0.97158772, 0.97158786, 0.97158801, 0.97158815,\n",
       "       0.97158829, 0.97158843, 0.97158856, 0.9715887 , 0.97158883,\n",
       "       0.97158896, 0.97158909, 0.97158922, 0.97158935, 0.97158948,\n",
       "       0.9715896 , 0.97158972, 0.97158985, 0.97158997, 0.97159009,\n",
       "       0.9715902 , 0.97159032, 0.97159044, 0.97159055, 0.97159066,\n",
       "       0.97159078, 0.97159089, 0.971591  , 0.9715911 , 0.97159121,\n",
       "       0.97159132, 0.97159142, 0.97159153, 0.97159163, 0.97159173,\n",
       "       0.97159183, 0.97159193, 0.97159203, 0.97159213, 0.97159223,\n",
       "       0.97159233, 0.97159242, 0.97159252, 0.97159261, 0.97159271,\n",
       "       0.9715928 , 0.97159289, 0.97159298, 0.97159307, 0.97159316,\n",
       "       0.97159325, 0.97159334, 0.97159343, 0.97159352, 0.9715936 ,\n",
       "       0.97159369, 0.97159377, 0.97159386, 0.97159394, 0.97159403,\n",
       "       0.97159411, 0.97159419, 0.97159428, 0.97159436, 0.97159444,\n",
       "       0.97159452, 0.9715946 , 0.97159468, 0.97159476, 0.97159484,\n",
       "       0.97159492, 0.971595  , 0.97159508, 0.97159516, 0.97159523,\n",
       "       0.97159531, 0.97159539, 0.97159547, 0.97159555, 0.97159562,\n",
       "       0.9715957 , 0.97159578, 0.97159585, 0.97159593, 0.97159601,\n",
       "       0.97159609, 0.97159616, 0.97159624, 0.97159632, 0.97159639,\n",
       "       0.97159647, 0.97159655, 0.97159663, 0.97159671, 0.97159679,\n",
       "       0.97159687, 0.97159695, 0.97159703, 0.97159711, 0.97159719,\n",
       "       0.97159727, 0.97159736, 0.97159744, 0.97159753, 0.97159761,\n",
       "       0.9715977 , 0.97159779, 0.97159788, 0.97159797, 0.97159807,\n",
       "       0.97159816, 0.97159826, 0.97159837, 0.97159847, 0.97159858,\n",
       "       0.97159869, 0.9715988 , 0.97159892, 0.97159905, 0.97159918,\n",
       "       0.97159931, 0.97159945, 0.9715996 , 0.97159975, 0.97159991,\n",
       "       0.97160008, 0.97160024, 0.97160041, 0.97160057, 0.97160073,\n",
       "       0.97160088, 0.97160102, 0.97160115, 0.97160126, 0.97160137,\n",
       "       0.97160147, 0.97160155, 0.97160163, 0.97160171, 0.97160177,\n",
       "       0.97160183, 0.97160189, 0.97160194, 0.97160199, 0.97160203,\n",
       "       0.97160207, 0.97160211, 0.97160215, 0.97160218, 0.97160221,\n",
       "       0.97160224, 0.97160227, 0.97160229, 0.97160231, 0.97160234,\n",
       "       0.97160236, 0.97160238, 0.97160239, 0.97160241, 0.97160243,\n",
       "       0.97160244, 0.97160246, 0.97160247, 0.97160249, 0.9716025 ,\n",
       "       0.97160251, 0.97160252, 0.97160253, 0.97160254, 0.97160255,\n",
       "       0.97160256, 0.97160257, 0.97160258, 0.97160259, 0.97160259,\n",
       "       0.9716026 , 0.97160261, 0.97160262, 0.97160262, 0.97160263,\n",
       "       0.97160264, 0.97160264, 0.97160265, 0.97160265, 0.97160266,\n",
       "       0.97160266, 0.97160267, 0.97160267, 0.97160268, 0.97160268,\n",
       "       0.97160268, 0.97160269, 0.97160269, 0.9716027 , 0.9716027 ,\n",
       "       0.9716027 , 0.97160271, 0.97160271, 0.97160271, 0.97160272,\n",
       "       0.97160272, 0.97160272, 0.97160273, 0.97160273, 0.97160273,\n",
       "       0.97160273, 0.97160274, 0.97160274, 0.97160274, 0.97160274,\n",
       "       0.97160274, 0.97160275, 0.97160275, 0.97160275, 0.97160275,\n",
       "       0.97160275, 0.97160276, 0.97160276, 0.97160276, 0.97160276,\n",
       "       0.97160276, 0.97160277, 0.97160277, 0.97160277, 0.97160277,\n",
       "       0.97160277, 0.97160277, 0.97160277, 0.97160278, 0.97160278,\n",
       "       0.97160278, 0.97160278, 0.97160278, 0.97160278, 0.97160278,\n",
       "       0.97160278, 0.97160279, 0.97160279, 0.97160279, 0.97160279,\n",
       "       0.97160279, 0.97160279, 0.97160279, 0.97160279, 0.97160279,\n",
       "       0.97160279, 0.9716028 , 0.9716028 , 0.9716028 , 0.9716028 ,\n",
       "       0.9716028 , 0.9716028 , 0.9716028 , 0.9716028 , 0.9716028 ,\n",
       "       0.9716028 , 0.9716028 , 0.9716028 , 0.97160281, 0.97160281,\n",
       "       0.97160281, 0.97160281, 0.97160281, 0.97160281, 0.97160281,\n",
       "       0.97160281, 0.97160281, 0.97160281, 0.97160281, 0.97160281,\n",
       "       0.97160281, 0.97160281, 0.97160281, 0.97160281, 0.97160281,\n",
       "       0.97160282, 0.97160282, 0.97160282, 0.97160282, 0.97160282,\n",
       "       0.97160282, 0.97160282, 0.97160282, 0.97160282, 0.97160282,\n",
       "       0.97160282, 0.97160282, 0.97160282, 0.97160282, 0.97160282,\n",
       "       0.97160282, 0.97160282, 0.97160282, 0.97160282, 0.97160282,\n",
       "       0.97160282, 0.97160282, 0.97160282, 0.97160283, 0.97160283,\n",
       "       0.97160283, 0.97160283, 0.97160283, 0.97160283, 0.97160284,\n",
       "       0.97160284, 0.97160284, 0.97160285, 0.97160285, 0.97160285])"
      ]
     },
     "execution_count": 9,
     "metadata": {},
     "output_type": "execute_result"
    }
   ],
   "source": [
    "transfer['Geff_smg']"
   ]
  },
  {
   "cell_type": "code",
   "execution_count": 10,
   "id": "e10de7b4",
   "metadata": {
    "scrolled": false
   },
   "outputs": [
    {
     "data": {
      "image/png": "[encoded data removed]",
      "text/plain": [
       "<Figure size 576x432 with 1 Axes>"
      ]
     },
     "metadata": {
      "needs_background": "light"
     },
     "output_type": "display_data"
    }
   ],
   "source": [
    "plt.plot(transfer['k (h/Mpc)'], transfer['Geff_smg'], 'r--')\n",
    "plt.xscale('log')\n",
    "plt.show()"
   ]
  },
  {
   "cell_type": "code",
   "execution_count": null,
   "id": "ba820adc",
   "metadata": {},
   "outputs": [],
   "source": []
  }
 ],
 "metadata": {
  "kernelspec": {
   "display_name": "Python 3 (ipykernel)",
   "language": "python",
   "name": "python3"
  },
  "language_info": {
   "codemirror_mode": {
    "name": "ipython",
    "version": 3
   },
   "file_extension": ".py",
   "mimetype": "text/x-python",
   "name": "python",
   "nbconvert_exporter": "python",
   "pygments_lexer": "ipython3",
   "version": "3.9.7"
  }
 },
 "nbformat": 4,
 "nbformat_minor": 5
}
