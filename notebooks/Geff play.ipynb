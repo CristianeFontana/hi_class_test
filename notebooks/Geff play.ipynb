{
 "cells": [
  {
   "cell_type": "code",
   "execution_count": 1,
   "id": "b80c9547",
   "metadata": {},
   "outputs": [],
   "source": [
    "%matplotlib inline\n",
    "import matplotlib\n",
    "import matplotlib.pyplot as plt\n",
    "import numpy as np\n",
    "from classy import Class\n",
    "from scipy.optimize import fsolve\n",
    "from scipy.interpolate import interp1d\n",
    "import math"
   ]
  },
  {
   "cell_type": "code",
   "execution_count": 2,
   "id": "17027ea7",
   "metadata": {},
   "outputs": [],
   "source": [
    "font = {'size'   : 16, 'family':'STIXGeneral'}\n",
    "axislabelfontsize='large'\n",
    "matplotlib.rc('font', **font)\n",
    "matplotlib.mathtext.rcParams['legend.fontsize']='medium'\n",
    "plt.rcParams[\"figure.figsize\"] = [8.0,6.0]\n",
    "\n",
    "#\n",
    "  # 1/Mpc\n",
    "#\n",
    "# Cosmological parameters and other CLASS parameters\n",
    "#\n",
    "common_settings = {# we need to set the output field to something although\n",
    "                   # the really releveant outpout here will be set with 'k_output_values'\n",
    "                   'output':'tCl,pCl,lCl,mPk,mTk',\n",
    "                   # value of k we want to polot in [1/Mpc]\n",
    "                   'k_output_values': 0.01,\n",
    "                   # LambdaCDM parameters\n",
    "                   'Omega_Lambda':0, \n",
    "                   'Omega_fld':0,\n",
    "                   'Omega_smg' : -1,\n",
    "                   'gravity_model' :'propto_omega',\n",
    "                   # k, b, m, t\n",
    "                   #'parameters_smg' :'1., 0., 0., 0., 1.',\n",
    "                   #'parameters_smg' :'1., 0.625, 0., 0., 1.',\n",
    "                   #'parameters_smg' :'1., 1.25, 0., 0., 1.',\n",
    "                   'parameters_smg' :'1., 0., 0.625, 0., 1.',\n",
    "                   #'parameters_smg' :'1., 0., 1.25, 0., 1.',\n",
    "                   'expansion_model' :'lcdm',\n",
    "                   'expansion_smg' : 0.5,\n",
    "                   'output_background_smg' :10,\n",
    "                   'skip_stability_tests_smg' : 'no',\n",
    "                   'cs2_safe_smg' : 0.,\n",
    "                   'D_safe_smg' : 0.,\n",
    "                   'ct2_safe_smg' :0.,\n",
    "                   'M2_safe_smg' : 0.,\n",
    "                   'a_min_stability_test_smg' : 0.0001,\n",
    "    \n",
    "    \n",
    "                   # Take fixed value for primordial Helium (instead of automatic BBN adjustment)\n",
    "                   'hubble_evolution' : 'y',\n",
    "                   'hubble_friction' :3.,\n",
    "                   'pert_initial_conditions_smg' : 'ext_field_attr',\n",
    "                   \n",
    "                   # other options and settings\n",
    "                   'pert_ic_ini_z_ref_smg' : 1e10,    \n",
    "                   'pert_ic_tolerance_smg' : 2e-2, \n",
    "                   'pert_ic_regulator_smg' : 1e-15,\n",
    "                   'pert_qs_ic_tolerance_test_smg' : 10,\n",
    "                   'method_qs_smg' : 'fully_dynamic',\n",
    "                   'z_fd_qs_smg' : 10.,\n",
    "                   'trigger_mass_qs_smg' : 1.e3,\n",
    "                   'trigger_rad_qs_smg' : 1.e3, \n",
    "                   'eps_s_qs_smg' : 0.01,\n",
    "                   'n_min_qs_smg' : 1e2,\n",
    "                   'n_max_qs_smg' : 1e4,\n",
    "                   'start_small_k_at_tau_c_over_tau_h' : 1e-4,\n",
    "                   'start_large_k_at_tau_h_over_tau_k' : 1e-4,\n",
    "                   'perturb_sampling_stepsize' : 0.05,\n",
    "                   'l_logstep' : 1.045,\n",
    "                   'l_linstep' : 50,\n",
    "                   'gauge':'synchronous'}  "
   ]
  },
  {
   "cell_type": "code",
   "execution_count": 3,
   "id": "3c85600e",
   "metadata": {},
   "outputs": [
    {
     "ename": "CosmoComputationError",
     "evalue": "\n\nError in Class: perturb_init(L:454) :error in perturb_solve(ppr, pba, pth, ppt, index_md, index_ic, index_k, pppw[thread]);\n=>perturb_solve(L:2665) :error in generic_evolver(perturb_derivs, interval_limit[index_interval], interval_limit[index_interval+1], ppw->pv->y, ppw->pv->used_in_sources, ppw->pv->pt_size, &ppaw, ppr->tol_perturb_integration, ppr->smallest_allowed_variation, perturb_timescale, ppr->perturb_integration_stepsize, ppt->tau_sampling, tau_actual_size, perturb_sources, perhaps_print_variables, ppt->error_message);\n=>evolver_ndf15(L:300) :error in new_linearisation(&jac,hinvGak,neq,error_message);\n=>new_linearisation(L:1014) :condition (funcreturn == _FAILURE_) is true; Failure in ludcmp. Possibly singular matrix!",
     "output_type": "error",
     "traceback": [
      "\u001b[0;31m---------------------------------------------------------------------------\u001b[0m",
      "\u001b[0;31mCosmoComputationError\u001b[0m                     Traceback (most recent call last)",
      "\u001b[0;32m/tmp/ipykernel_18999/3955763658.py\u001b[0m in \u001b[0;36m<module>\u001b[0;34m\u001b[0m\n\u001b[1;32m      3\u001b[0m \u001b[0mM\u001b[0m \u001b[0;34m=\u001b[0m \u001b[0mClass\u001b[0m\u001b[0;34m(\u001b[0m\u001b[0;34m)\u001b[0m\u001b[0;34m\u001b[0m\u001b[0;34m\u001b[0m\u001b[0m\n\u001b[1;32m      4\u001b[0m \u001b[0mM\u001b[0m\u001b[0;34m.\u001b[0m\u001b[0mset\u001b[0m\u001b[0;34m(\u001b[0m\u001b[0mcommon_settings\u001b[0m\u001b[0;34m)\u001b[0m\u001b[0;34m\u001b[0m\u001b[0;34m\u001b[0m\u001b[0m\n\u001b[0;32m----> 5\u001b[0;31m \u001b[0mM\u001b[0m\u001b[0;34m.\u001b[0m\u001b[0mcompute\u001b[0m\u001b[0;34m(\u001b[0m\u001b[0;34m)\u001b[0m\u001b[0;34m\u001b[0m\u001b[0;34m\u001b[0m\u001b[0m\n\u001b[0m",
      "\u001b[0;32mclassy.pyx\u001b[0m in \u001b[0;36mclassy.Class.compute\u001b[0;34m()\u001b[0m\n",
      "\u001b[0;31mCosmoComputationError\u001b[0m: \n\nError in Class: perturb_init(L:454) :error in perturb_solve(ppr, pba, pth, ppt, index_md, index_ic, index_k, pppw[thread]);\n=>perturb_solve(L:2665) :error in generic_evolver(perturb_derivs, interval_limit[index_interval], interval_limit[index_interval+1], ppw->pv->y, ppw->pv->used_in_sources, ppw->pv->pt_size, &ppaw, ppr->tol_perturb_integration, ppr->smallest_allowed_variation, perturb_timescale, ppr->perturb_integration_stepsize, ppt->tau_sampling, tau_actual_size, perturb_sources, perhaps_print_variables, ppt->error_message);\n=>evolver_ndf15(L:300) :error in new_linearisation(&jac,hinvGak,neq,error_message);\n=>new_linearisation(L:1014) :condition (funcreturn == _FAILURE_) is true; Failure in ludcmp. Possibly singular matrix!"
     ]
    }
   ],
   "source": [
    "# call CLASS\n",
    "#\n",
    "M = Class()\n",
    "M.set(common_settings)\n",
    "M.compute()"
   ]
  },
  {
   "cell_type": "code",
   "execution_count": null,
   "id": "3d9a7fa2",
   "metadata": {},
   "outputs": [],
   "source": [
    "transfer = M.get_transfer() #Geff_smg(k) para z fixo\n",
    "print(transfer.keys())"
   ]
  },
  {
   "cell_type": "code",
   "execution_count": null,
   "id": "918358c4",
   "metadata": {
    "scrolled": true
   },
   "outputs": [],
   "source": [
    "all_k = M.get_perturbations() #Geff_smg(a) para k fixo\n",
    "print(all_k['scalar'][0].keys())"
   ]
  },
  {
   "cell_type": "code",
   "execution_count": null,
   "id": "535e5fef",
   "metadata": {
    "scrolled": true
   },
   "outputs": [],
   "source": [
    "perturb = all_k['scalar'][0] \n",
    "perturb['Geff_smg']"
   ]
  },
  {
   "cell_type": "code",
   "execution_count": null,
   "id": "1d3abc78",
   "metadata": {},
   "outputs": [],
   "source": [
    "plt.plot(transfer['k (h/Mpc)'], transfer['delta_N']+1000, 'r--')\n",
    "plt.plot(transfer['k (h/Mpc)'], transfer['d_g']+transfer['d_cdm'], 'r--')\n",
    "plt.show"
   ]
  },
  {
   "cell_type": "code",
   "execution_count": null,
   "id": "8f5f1b0f",
   "metadata": {
    "scrolled": true
   },
   "outputs": [],
   "source": [
    "plt.plot(perturb['a'], perturb['delta_Q'], 'r--')\n",
    "plt.show"
   ]
  },
  {
   "cell_type": "code",
   "execution_count": null,
   "id": "c7de9bcb",
   "metadata": {},
   "outputs": [],
   "source": [
    "plt.plot(perturb['a'], 3+10*perturb['a']+5*perturb['a']*perturb['a'])\n",
    "plt.show"
   ]
  },
  {
   "cell_type": "code",
   "execution_count": null,
   "id": "0fcb4285",
   "metadata": {
    "scrolled": false
   },
   "outputs": [],
   "source": [
    "plt.plot(perturb['a'], perturb['delta_cdm']+perturb['delta_g'], 'r--')\n",
    "plt.plot(perturb['a'], perturb['delta_N']+10, 'r--')\n",
    "plt.show()"
   ]
  },
  {
   "cell_type": "code",
   "execution_count": null,
   "id": "6a26dbb7",
   "metadata": {},
   "outputs": [],
   "source": [
    "back = M.get_background() #keys disponiveis do background\n",
    "print(back.keys())"
   ]
  },
  {
   "cell_type": "code",
   "execution_count": null,
   "id": "a34db03c",
   "metadata": {
    "scrolled": true
   },
   "outputs": [],
   "source": [
    "transfer['Geff_smg']"
   ]
  },
  {
   "cell_type": "code",
   "execution_count": null,
   "id": "e10de7b4",
   "metadata": {
    "scrolled": false
   },
   "outputs": [],
   "source": [
    "plt.plot(transfer['k (h/Mpc)'], transfer['Geff_smg'], 'r--')\n",
    "plt.xscale('log')\n",
    "plt.show()"
   ]
  },
  {
   "cell_type": "code",
   "execution_count": null,
   "id": "ba820adc",
   "metadata": {},
   "outputs": [],
   "source": []
  }
 ],
 "metadata": {
  "kernelspec": {
   "display_name": "Python 3 (ipykernel)",
   "language": "python",
   "name": "python3"
  },
  "language_info": {
   "codemirror_mode": {
    "name": "ipython",
    "version": 3
   },
   "file_extension": ".py",
   "mimetype": "text/x-python",
   "name": "python",
   "nbconvert_exporter": "python",
   "pygments_lexer": "ipython3",
   "version": "3.9.7"
  }
 },
 "nbformat": 4,
 "nbformat_minor": 5
}
