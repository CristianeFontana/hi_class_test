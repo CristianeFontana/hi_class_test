{
 "cells": [
  {
   "cell_type": "code",
   "execution_count": 1,
   "id": "b80c9547",
   "metadata": {},
   "outputs": [],
   "source": [
    "%matplotlib inline\n",
    "import matplotlib\n",
    "import matplotlib.pyplot as plt\n",
    "import numpy as np\n",
    "from classy import Class\n",
    "from scipy.optimize import fsolve\n",
    "from scipy.interpolate import interp1d\n",
    "import math"
   ]
  },
  {
   "cell_type": "code",
   "execution_count": 2,
   "id": "17027ea7",
   "metadata": {},
   "outputs": [],
   "source": [
    "font = {'size'   : 16, 'family':'STIXGeneral'}\n",
    "axislabelfontsize='large'\n",
    "matplotlib.rc('font', **font)\n",
    "matplotlib.mathtext.rcParams['legend.fontsize']='medium'\n",
    "plt.rcParams[\"figure.figsize\"] = [8.0,6.0]\n",
    "\n",
    "#\n",
    "  # 1/Mpc\n",
    "#\n",
    "# Cosmological parameters and other CLASS parameters\n",
    "#\n",
    "common_settings = {# we need to set the output field to something although\n",
    "                   # the really releveant outpout here will be set with 'k_output_values'\n",
    "                   'output':'tCl,pCl,lCl,mPk,mTk',\n",
    "                   # value of k we want to polot in [1/Mpc]\n",
    "                   'k_output_values': 0.00001,\n",
    "                   # LambdaCDM parameters\n",
    "                   'Omega_Lambda':0, \n",
    "                   'Omega_fld':0,\n",
    "                   'Omega_smg' : -1,\n",
    "                   'gravity_model' :'propto_omega',\n",
    "                   # k, b, m, t\n",
    "                   #'parameters_smg' :'1., 0., 0., 0., 1.',\n",
    "                   'parameters_smg' :'1., 0.625, 0., 0., 1.',\n",
    "                   #'parameters_smg' :'1., 1.25, 0., 0., 1.',\n",
    "                   #'parameters_smg' :'1., 0., 0.625, 0., 1.',\n",
    "                   #'parameters_smg' :'1., 0., 1.25, 0., 1.',\n",
    "                   'expansion_model' :'lcdm',\n",
    "                   'expansion_smg' : 0.5,\n",
    "                   'output_background_smg' :10,\n",
    "                   'skip_stability_tests_smg' : 'no',\n",
    "                   'cs2_safe_smg' : 0.,\n",
    "                   'D_safe_smg' : 0.,\n",
    "                   'ct2_safe_smg' :0.,\n",
    "                   'M2_safe_smg' : 0.,\n",
    "                   'a_min_stability_test_smg' : 0.0001,\n",
    "    \n",
    "    \n",
    "                   # Take fixed value for primordial Helium (instead of automatic BBN adjustment)\n",
    "                   'hubble_evolution' : 'y',\n",
    "                   'hubble_friction' :3.,\n",
    "                   'pert_initial_conditions_smg' : 'ext_field_attr',\n",
    "                   \n",
    "                   # other options and settings\n",
    "                   'pert_ic_ini_z_ref_smg' : 1e10,    \n",
    "                   'pert_ic_tolerance_smg' : 2e-2, \n",
    "                   'pert_ic_regulator_smg' : 1e-15,\n",
    "                   'pert_qs_ic_tolerance_test_smg' : 10,\n",
    "                   'method_qs_smg' : 'fully_dynamic',\n",
    "                   'z_fd_qs_smg' : 10.,\n",
    "                   'trigger_mass_qs_smg' : 1.e3,\n",
    "                   'trigger_rad_qs_smg' : 1.e3, \n",
    "                   'eps_s_qs_smg' : 0.01,\n",
    "                   'n_min_qs_smg' : 1e2,\n",
    "                   'n_max_qs_smg' : 1e4,\n",
    "                   'start_small_k_at_tau_c_over_tau_h' : 1e-4,\n",
    "                   'start_large_k_at_tau_h_over_tau_k' : 1e-4,\n",
    "                   'perturb_sampling_stepsize' : 0.05,\n",
    "                   'l_logstep' : 1.045,\n",
    "                   'l_linstep' : 50,\n",
    "                   'gauge':'synchronous'}  "
   ]
  },
  {
   "cell_type": "code",
   "execution_count": 3,
   "id": "3c85600e",
   "metadata": {},
   "outputs": [],
   "source": [
    "# call CLASS\n",
    "#\n",
    "M = Class()\n",
    "M.set(common_settings)\n",
    "M.compute()"
   ]
  },
  {
   "cell_type": "code",
   "execution_count": 4,
   "id": "3d9a7fa2",
   "metadata": {},
   "outputs": [
    {
     "name": "stdout",
     "output_type": "stream",
     "text": [
      "dict_keys(['k (h/Mpc)', 'd_g', 'd_b', 'd_cdm', 'd_ur', 'd_tot', 'phi', 'psi', 'Geff_smg'])\n"
     ]
    }
   ],
   "source": [
    "transfer = M.get_transfer() #Geff_smg(k) para z fixo\n",
    "print(transfer.keys())"
   ]
  },
  {
   "cell_type": "code",
   "execution_count": 5,
   "id": "918358c4",
   "metadata": {
    "scrolled": true
   },
   "outputs": [
    {
     "name": "stdout",
     "output_type": "stream",
     "text": [
      "dict_keys(['tau [Mpc]', 'a', 'delta_g', 'theta_g', 'shear_g', 'pol0_g', 'pol1_g', 'pol2_g', 'delta_b', 'theta_b', 'psi', 'phi', 'delta_ur', 'theta_ur', 'shear_ur', 'delta_cdm', 'theta_cdm', 'V_x_smg', 'V_x_prime_smg', 'h_prime', 'eta', 'Geff_smg'])\n"
     ]
    }
   ],
   "source": [
    "all_k = M.get_perturbations() #Geff_smg(a) para k fixo\n",
    "print(all_k['scalar'][0].keys())"
   ]
  },
  {
   "cell_type": "code",
   "execution_count": 6,
   "id": "535e5fef",
   "metadata": {
    "scrolled": true
   },
   "outputs": [
    {
     "data": {
      "text/plain": [
       "array([1.        , 1.        , 1.        , 1.        , 1.        ,\n",
       "       1.        , 1.        , 1.        , 1.        , 1.        ,\n",
       "       1.        , 1.        , 1.        , 1.        , 1.        ,\n",
       "       1.        , 1.        , 1.        , 1.        , 1.        ,\n",
       "       1.        , 1.        , 1.        , 1.        , 1.        ,\n",
       "       1.        , 1.        , 1.        , 1.        , 1.        ,\n",
       "       1.        , 1.        , 1.        , 1.        , 1.        ,\n",
       "       1.        , 1.        , 1.        , 1.        , 1.        ,\n",
       "       1.        , 1.        , 1.        , 1.        , 1.        ,\n",
       "       1.        , 1.        , 1.        , 1.        , 1.        ,\n",
       "       1.        , 1.        , 1.        , 1.        , 1.        ,\n",
       "       1.        , 1.        , 1.        , 1.        , 1.        ,\n",
       "       1.        , 1.        , 1.        , 1.        , 1.        ,\n",
       "       1.        , 1.        , 1.        , 1.        , 1.        ,\n",
       "       1.        , 1.        , 1.        , 1.        , 1.        ,\n",
       "       1.        , 1.        , 1.        , 1.        , 1.        ,\n",
       "       1.        , 1.        , 1.        , 1.        , 1.        ,\n",
       "       1.        , 1.        , 1.        , 1.        , 1.        ,\n",
       "       1.        , 1.        , 1.        , 1.        , 1.        ,\n",
       "       1.        , 1.        , 1.        , 1.        , 1.        ,\n",
       "       1.        , 1.        , 1.        , 1.        , 1.        ,\n",
       "       1.        , 1.        , 1.        , 1.        , 1.        ,\n",
       "       1.        , 1.        , 1.        , 1.        , 1.        ,\n",
       "       1.        , 1.        , 1.        , 1.        , 1.        ,\n",
       "       1.        , 1.        , 1.        , 1.        , 1.        ,\n",
       "       1.        , 1.        , 1.        , 1.        , 1.        ,\n",
       "       1.        , 1.        , 1.        , 1.        , 1.        ,\n",
       "       1.        , 1.        , 1.        , 1.        , 1.        ,\n",
       "       1.        , 1.        , 1.        , 1.        , 1.        ,\n",
       "       1.        , 1.        , 1.        , 1.        , 1.        ,\n",
       "       1.        , 1.        , 1.        , 1.        , 1.        ,\n",
       "       1.        , 1.        , 1.        , 1.        , 1.        ,\n",
       "       1.        , 1.        , 1.        , 1.        , 1.        ,\n",
       "       1.        , 1.        , 1.        , 1.        , 1.        ,\n",
       "       1.        , 1.        , 1.        , 1.        , 1.        ,\n",
       "       1.        , 1.        , 1.        , 1.        , 1.        ,\n",
       "       1.        , 1.        , 1.        , 1.        , 1.        ,\n",
       "       1.        , 1.        , 1.        , 1.        , 1.        ,\n",
       "       1.        , 1.        , 1.        , 1.        , 1.        ,\n",
       "       1.        , 1.        , 1.        , 1.        , 1.        ,\n",
       "       1.        , 1.        , 1.        , 1.        , 1.        ,\n",
       "       1.        , 1.        , 1.        , 1.        , 1.        ,\n",
       "       1.        , 1.        , 1.        , 1.        , 1.        ,\n",
       "       1.        , 1.        , 1.        , 1.        , 1.        ,\n",
       "       1.        , 1.        , 1.        , 1.        , 1.        ,\n",
       "       1.        , 1.        , 1.        , 1.        , 1.        ,\n",
       "       1.        , 1.        , 1.        , 1.        , 1.        ,\n",
       "       1.        , 1.        , 1.        , 1.        , 1.        ,\n",
       "       1.        , 1.        , 1.        , 1.        , 1.        ,\n",
       "       1.        , 1.        , 1.        , 1.        , 1.        ,\n",
       "       1.        , 1.        , 1.        , 1.        , 1.        ,\n",
       "       1.        , 1.        , 1.        , 1.        , 1.        ,\n",
       "       1.        , 1.        , 1.        , 1.        , 1.        ,\n",
       "       1.        , 1.        , 1.        , 1.        , 1.        ,\n",
       "       1.        , 1.        , 1.        , 1.        , 1.        ,\n",
       "       1.        , 1.        , 1.        , 1.        , 1.        ,\n",
       "       1.        , 1.        , 1.        , 1.        , 1.        ,\n",
       "       1.        , 1.        , 1.        , 1.        , 1.        ,\n",
       "       1.        , 1.        , 1.        , 1.        , 1.        ,\n",
       "       1.        , 1.        , 1.        , 1.        , 1.        ,\n",
       "       1.        , 1.        , 1.        , 1.00000001, 1.00000001,\n",
       "       1.00000002, 1.00000002, 1.00000003, 1.00000004, 1.00000007,\n",
       "       1.00000011, 1.00000017, 1.00000026, 1.0000004 , 1.00000061,\n",
       "       1.00000097, 1.00000152, 1.00000235, 1.00000358, 1.00000539,\n",
       "       1.00000799, 1.00001169, 1.00001687, 1.00002414, 1.00003411,\n",
       "       1.00004766, 1.00006595, 1.00007558])"
      ]
     },
     "execution_count": 6,
     "metadata": {},
     "output_type": "execute_result"
    }
   ],
   "source": [
    "perturb = all_k['scalar'][0] \n",
    "perturb['Geff_smg']"
   ]
  },
  {
   "cell_type": "code",
   "execution_count": 7,
   "id": "0fcb4285",
   "metadata": {},
   "outputs": [
    {
     "data": {
      "image/png": "[encoded data removed]",
      "text/plain": [
       "<Figure size 576x432 with 1 Axes>"
      ]
     },
     "metadata": {
      "needs_background": "light"
     },
     "output_type": "display_data"
    }
   ],
   "source": [
    "plt.plot(perturb['a'], perturb['Geff_smg'], 'r--')\n",
    "plt.show()"
   ]
  },
  {
   "cell_type": "code",
   "execution_count": 8,
   "id": "6a26dbb7",
   "metadata": {},
   "outputs": [
    {
     "name": "stdout",
     "output_type": "stream",
     "text": [
      "dict_keys(['z', 'proper time [Gyr]', 'conf. time [Mpc]', 'H [1/Mpc]', 'comov. dist.', 'ang.diam.dist.', 'lum. dist.', 'comov.snd.hrz.', '(.)rho_g', '(.)rho_b', '(.)rho_cdm', '(.)rho_ur', '(.)rho_crit', 'gr.fac. D', 'gr.fac. f', '(.)rho_smg', '(.)p_smg', 'M*^2_smg', 'D_M*^2_smg', 'kineticity_smg', 'braiding_smg', 'tensor_excess_smg', 'Mpl_running_smg', 'c_s^2', 'kin (D)', 'kineticity_prime_smg', 'braiding_prime_smg', 'lambda_1', 'lambda_2', 'lambda_3', 'lambda_4', 'lambda_5', 'lambda_6', 'lambda_7', 'lambda_8', 'lambda_9', 'lambda_10', 'lambda_11', 'lambda_2_p', 'lambda_8_p', 'lambda_9_p', 'lambda_11_p', 'cs2num', 'cs2num_p', 'H_prime', 'H_prime_prime', 'rho_m'])\n"
     ]
    }
   ],
   "source": [
    "back = M.get_background() #keys disponiveis do background\n",
    "print(back.keys())"
   ]
  },
  {
   "cell_type": "code",
   "execution_count": 9,
   "id": "a34db03c",
   "metadata": {
    "scrolled": true
   },
   "outputs": [
    {
     "data": {
      "text/plain": [
       "array([1.00003768, 1.00007558, 1.00018747, 1.00045124, 1.00082906,\n",
       "       1.0013212 , 1.00192812, 1.00265041, 1.00348875, 1.00444387,\n",
       "       1.00551649, 1.00670721, 1.00801647, 1.00944442, 1.01099081,\n",
       "       1.01265486, 1.01443513, 1.01632936, 1.01833428, 1.02044549,\n",
       "       1.02265728, 1.02496243, 1.02735213, 1.02981583, 1.03234123,\n",
       "       1.03491425, 1.03751909, 1.0401385 , 1.04275396, 1.04534612,\n",
       "       1.04789529, 1.05038199, 1.05278759, 1.05509497, 1.05728911,\n",
       "       1.05935763, 1.0612912 , 1.06308375, 1.06473253, 1.06623792,\n",
       "       1.06760317, 1.06883389, 1.06993754, 1.07092291, 1.07179957,\n",
       "       1.07257742, 1.07326627, 1.07387561, 1.07441434, 1.07489069,\n",
       "       1.07531214, 1.0756854 , 1.07601644, 1.07631053, 1.07657228,\n",
       "       1.07680574, 1.07701441, 1.07720135, 1.07736921, 1.07752029,\n",
       "       1.07765659, 1.07777984, 1.07789155, 1.07799302, 1.07808541,\n",
       "       1.0781697 , 1.07824677, 1.07831738, 1.07838221, 1.07844183,\n",
       "       1.07849678, 1.07854751, 1.07859442, 1.07863788, 1.0786782 ,\n",
       "       1.07871568, 1.07875056, 1.07878308, 1.07881344, 1.07884181,\n",
       "       1.07886837, 1.07889326, 1.07891662, 1.07893857, 1.07895921,\n",
       "       1.07897865, 1.07899697, 1.07901426, 1.0790306 , 1.07904604,\n",
       "       1.07906066, 1.07907451, 1.07908764, 1.07910011, 1.07911194,\n",
       "       1.0791232 , 1.0791339 , 1.07914409, 1.07915381, 1.07916307,\n",
       "       1.0791719 , 1.07918034, 1.0791884 , 1.07919611, 1.07920348,\n",
       "       1.07921054, 1.0792173 , 1.07922378, 1.07923   , 1.07923596,\n",
       "       1.07924169, 1.07924719, 1.07925247, 1.07925755, 1.07926244,\n",
       "       1.07926715, 1.07927168, 1.07927604, 1.07928025, 1.0792843 ,\n",
       "       1.07928822, 1.07929199, 1.07929564, 1.07929916, 1.07930256,\n",
       "       1.07930585, 1.07930902, 1.0793121 , 1.07931507, 1.07931795,\n",
       "       1.07932074, 1.07932344, 1.07932606, 1.07932859, 1.07933105,\n",
       "       1.07933344, 1.07933575, 1.079338  , 1.07934018, 1.07934229,\n",
       "       1.07934435, 1.07934634, 1.07934828, 1.07935017, 1.079352  ,\n",
       "       1.07935379, 1.07935552, 1.07935721, 1.07935885, 1.07936045,\n",
       "       1.07936201, 1.07936353, 1.07936501, 1.07936645, 1.07936785,\n",
       "       1.07936922, 1.07937056, 1.07937186, 1.07937313, 1.07937437,\n",
       "       1.07937557, 1.07937675, 1.07937791, 1.07937903, 1.07938013,\n",
       "       1.0793812 , 1.07938225, 1.07938327, 1.07938428, 1.07938525,\n",
       "       1.07938621, 1.07938715, 1.07938806, 1.07938896, 1.07938983,\n",
       "       1.07939069, 1.07939153, 1.07939235, 1.07939315, 1.07939394,\n",
       "       1.07939471, 1.07939546, 1.0793962 , 1.07939692, 1.07939763,\n",
       "       1.07939833, 1.07939901, 1.07939968, 1.07940033, 1.07940097,\n",
       "       1.0794016 , 1.07940222, 1.07940283, 1.07940342, 1.079404  ,\n",
       "       1.07940458, 1.07940514, 1.07940569, 1.07940623, 1.07940676,\n",
       "       1.07940728, 1.07940779, 1.0794083 , 1.07940879, 1.07940927,\n",
       "       1.07940975, 1.07941022, 1.07941068, 1.07941113, 1.07941158,\n",
       "       1.07941201, 1.07941244, 1.07941286, 1.07941328, 1.07941369,\n",
       "       1.07941409, 1.07941448, 1.07941487, 1.07941525, 1.07941563,\n",
       "       1.079416  , 1.07941636, 1.07941672, 1.07941707, 1.07941742,\n",
       "       1.07941776, 1.0794181 , 1.07941843, 1.07941876, 1.07941908,\n",
       "       1.0794194 , 1.07941971, 1.07942001, 1.07942032, 1.07942062,\n",
       "       1.07942091, 1.0794212 , 1.07942148, 1.07942176, 1.07942204,\n",
       "       1.07942232, 1.07942258, 1.07942285, 1.07942311, 1.07942337,\n",
       "       1.07942362, 1.07942388, 1.07942412, 1.07942437, 1.07942461,\n",
       "       1.07942485, 1.07942508, 1.07942531, 1.07942554, 1.07942577,\n",
       "       1.07942599, 1.07942621, 1.07942643, 1.07942664, 1.07942685,\n",
       "       1.07942706, 1.07942727, 1.07942747, 1.07942767, 1.07942787,\n",
       "       1.07942807, 1.07942826, 1.07942846, 1.07942865, 1.07942883,\n",
       "       1.07942902, 1.0794292 , 1.07942938, 1.07942956, 1.07942974,\n",
       "       1.07942991, 1.07943009, 1.07943026, 1.07943043, 1.07943059,\n",
       "       1.07943076, 1.07943092, 1.07943108, 1.07943124, 1.0794314 ,\n",
       "       1.07943156, 1.07943171, 1.07943187, 1.07943202, 1.07943217,\n",
       "       1.07943232, 1.07943247, 1.07943261, 1.07943276, 1.0794329 ,\n",
       "       1.07943304, 1.07943319, 1.07943332, 1.07943346, 1.0794336 ,\n",
       "       1.07943374, 1.07943387, 1.079434  , 1.07943414, 1.07943427,\n",
       "       1.0794344 , 1.07943453, 1.07943466, 1.07943478, 1.07943491,\n",
       "       1.07943503, 1.07943516, 1.07943528, 1.0794354 , 1.07943553,\n",
       "       1.07943565, 1.07943577, 1.07943589, 1.079436  , 1.07943612,\n",
       "       1.07943624, 1.07943636, 1.07943647, 1.07943659, 1.0794367 ,\n",
       "       1.07943681, 1.07943693, 1.07943704, 1.07943715, 1.07943726,\n",
       "       1.07943738, 1.07943749, 1.0794376 , 1.07943771, 1.07943782,\n",
       "       1.07943793, 1.07943803, 1.07943814, 1.07943825, 1.07943836,\n",
       "       1.07943847, 1.07943858, 1.07943869, 1.07943879, 1.0794389 ,\n",
       "       1.07943901, 1.07943912, 1.07943923, 1.07943934, 1.07943944,\n",
       "       1.07943955, 1.07943966, 1.07943977, 1.07943988, 1.07943999,\n",
       "       1.07944011, 1.07944022, 1.07944033, 1.07944044, 1.07944056,\n",
       "       1.07944068, 1.07944079, 1.07944091, 1.07944103, 1.07944115,\n",
       "       1.07944128, 1.0794414 , 1.07944153, 1.07944166, 1.07944179,\n",
       "       1.07944193, 1.07944207, 1.07944221, 1.07944236, 1.07944251,\n",
       "       1.07944266, 1.07944282, 1.07944299, 1.07944317, 1.07944335,\n",
       "       1.07944354, 1.07944373, 1.07944394, 1.07944416, 1.07944438,\n",
       "       1.07944461, 1.07944484, 1.07944508, 1.07944531, 1.07944553,\n",
       "       1.07944574, 1.07944594, 1.07944611, 1.07944628, 1.07944643,\n",
       "       1.07944656, 1.07944669, 1.0794468 , 1.0794469 , 1.07944699,\n",
       "       1.07944708, 1.07944716, 1.07944723, 1.0794473 , 1.07944736,\n",
       "       1.07944741, 1.07944747, 1.07944752, 1.07944756, 1.07944761,\n",
       "       1.07944765, 1.07944768, 1.07944772, 1.07944775, 1.07944778,\n",
       "       1.07944781, 1.07944784, 1.07944786, 1.07944789, 1.07944791,\n",
       "       1.07944793, 1.07944795, 1.07944797, 1.07944799, 1.07944801,\n",
       "       1.07944803, 1.07944804, 1.07944806, 1.07944807, 1.07944809,\n",
       "       1.0794481 , 1.07944811, 1.07944812, 1.07944813, 1.07944815,\n",
       "       1.07944816, 1.07944817, 1.07944818, 1.07944819, 1.07944819,\n",
       "       1.0794482 , 1.07944821, 1.07944822, 1.07944823, 1.07944823,\n",
       "       1.07944824, 1.07944825, 1.07944825, 1.07944826, 1.07944827,\n",
       "       1.07944827, 1.07944828, 1.07944828, 1.07944829, 1.07944829,\n",
       "       1.0794483 , 1.0794483 , 1.07944831, 1.07944831, 1.07944832,\n",
       "       1.07944832, 1.07944832, 1.07944833, 1.07944833, 1.07944834,\n",
       "       1.07944834, 1.07944834, 1.07944835, 1.07944835, 1.07944835,\n",
       "       1.07944836, 1.07944836, 1.07944836, 1.07944837, 1.07944837,\n",
       "       1.07944837, 1.07944837, 1.07944838, 1.07944838, 1.07944838,\n",
       "       1.07944838, 1.07944839, 1.07944839, 1.07944839, 1.07944839,\n",
       "       1.07944839, 1.0794484 , 1.0794484 , 1.0794484 , 1.0794484 ,\n",
       "       1.0794484 , 1.07944841, 1.07944841, 1.07944841, 1.07944841,\n",
       "       1.07944841, 1.07944841, 1.07944842, 1.07944842, 1.07944842,\n",
       "       1.07944842, 1.07944842, 1.07944842, 1.07944842, 1.07944843,\n",
       "       1.07944843, 1.07944843, 1.07944843, 1.07944843, 1.07944843,\n",
       "       1.07944843, 1.07944843, 1.07944843, 1.07944844, 1.07944844,\n",
       "       1.07944844, 1.07944844, 1.07944844, 1.07944844, 1.07944844,\n",
       "       1.07944844, 1.07944844, 1.07944844, 1.07944845, 1.07944845,\n",
       "       1.07944845, 1.07944845, 1.07944845, 1.07944845, 1.07944845,\n",
       "       1.07944845, 1.07944845, 1.07944845, 1.07944845, 1.07944845,\n",
       "       1.07944846, 1.07944846, 1.07944846, 1.07944846, 1.07944846,\n",
       "       1.07944846, 1.07944846, 1.07944846, 1.07944846, 1.07944846,\n",
       "       1.07944846, 1.07944846, 1.07944846, 1.07944846, 1.07944846,\n",
       "       1.07944846, 1.07944847, 1.07944847, 1.07944847, 1.07944847,\n",
       "       1.07944847, 1.07944847, 1.07944847, 1.07944847, 1.07944847,\n",
       "       1.07944847, 1.07944847, 1.07944848, 1.07944848, 1.07944849,\n",
       "       1.07944849, 1.0794485 , 1.0794485 , 1.07944851, 1.07944851])"
      ]
     },
     "execution_count": 9,
     "metadata": {},
     "output_type": "execute_result"
    }
   ],
   "source": [
    "transfer['Geff_smg']"
   ]
  },
  {
   "cell_type": "code",
   "execution_count": 10,
   "id": "e10de7b4",
   "metadata": {
    "scrolled": true
   },
   "outputs": [
    {
     "data": {
      "image/png": "[encoded data removed]",
      "text/plain": [
       "<Figure size 576x432 with 1 Axes>"
      ]
     },
     "metadata": {
      "needs_background": "light"
     },
     "output_type": "display_data"
    }
   ],
   "source": [
    "plt.plot(transfer['k (h/Mpc)'], transfer['Geff_smg'], 'r--')\n",
    "plt.xscale('log')\n",
    "plt.show()"
   ]
  },
  {
   "cell_type": "code",
   "execution_count": null,
   "id": "ba820adc",
   "metadata": {},
   "outputs": [],
   "source": []
  }
 ],
 "metadata": {
  "kernelspec": {
   "display_name": "Python 3 (ipykernel)",
   "language": "python",
   "name": "python3"
  },
  "language_info": {
   "codemirror_mode": {
    "name": "ipython",
    "version": 3
   },
   "file_extension": ".py",
   "mimetype": "text/x-python",
   "name": "python",
   "nbconvert_exporter": "python",
   "pygments_lexer": "ipython3",
   "version": "3.9.7"
  }
 },
 "nbformat": 4,
 "nbformat_minor": 5
}
