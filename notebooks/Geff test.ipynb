{
 "cells": [
  {
   "cell_type": "code",
   "execution_count": 1,
   "id": "b80c9547",
   "metadata": {},
   "outputs": [],
   "source": [
    "%matplotlib inline\n",
    "import matplotlib\n",
    "import matplotlib.pyplot as plt\n",
    "import numpy as np\n",
    "from classy import Class\n",
    "from scipy.optimize import fsolve\n",
    "from scipy.interpolate import interp1d\n",
    "import math\n",
    "import pandas as pd\n",
    "from astropy.table import Table"
   ]
  },
  {
   "cell_type": "code",
   "execution_count": 2,
   "id": "17027ea7",
   "metadata": {},
   "outputs": [],
   "source": [
    "font = {'size'   : 16, 'family':'STIXGeneral'}\n",
    "axislabelfontsize='large'\n",
    "matplotlib.rc('font', **font)\n",
    "matplotlib.mathtext.rcParams['legend.fontsize']='medium'\n",
    "plt.rcParams[\"figure.figsize\"] = [8.0,6.0]\n",
    "\n",
    "k = 0.0001\n",
    "#\n",
    "  # 1/Mpc\n",
    "#\n",
    "# Cosmological parameters and other CLASS parameters\n",
    "#\n",
    "common_settings = {# we need to set the output field to something although\n",
    "                   # the really releveant outpout here will be set with 'k_output_values'\n",
    "                   'output':'tCl,pCl,lCl,mPk,mTk',\n",
    "                   # value of k we want to polot in [1/Mpc]\n",
    "                   'k_output_values': k,\n",
    "                   # LambdaCDM parameters\n",
    "                   'Omega_Lambda':0, \n",
    "                   'Omega_fld':0,\n",
    "                   'Omega_smg' : -1,\n",
    "                   'gravity_model' :'propto_omega',\n",
    "                   # k, b, m, t\n",
    "                   #'parameters_smg' :'1., 0., 0., 0., 1.',\n",
    "                   #'parameters_smg' :'1., 0.625, 0., 0., 1.',\n",
    "                   #'parameters_smg' :'1., 1.25, 0., 0., 1.',\n",
    "                   'parameters_smg' :'1., 0., 0.625, 0., 1.',\n",
    "                   #'parameters_smg' :'1., 0., 1.25, 0., 1.',\n",
    "                   'expansion_model' :'lcdm',\n",
    "                   'expansion_smg' : 0.5,\n",
    "                   'output_background_smg' :10,\n",
    "                   'skip_stability_tests_smg' : 'no',\n",
    "                   'cs2_safe_smg' : 0.,\n",
    "                   'D_safe_smg' : 0.,\n",
    "                   'ct2_safe_smg' :0.,\n",
    "                   'M2_safe_smg' : 0.,\n",
    "                   'a_min_stability_test_smg' : 0.0001,\n",
    "    \n",
    "    \n",
    "                   # Take fixed value for primordial Helium (instead of automatic BBN adjustment)\n",
    "                   'hubble_evolution' : 'y',\n",
    "                   'hubble_friction' :3.,\n",
    "                   'pert_initial_conditions_smg' : 'ext_field_attr',\n",
    "                   \n",
    "                   # other options and settings\n",
    "                   'pert_ic_ini_z_ref_smg' : 1e10,    \n",
    "                   'pert_ic_tolerance_smg' : 2e-2, \n",
    "                   'pert_ic_regulator_smg' : 1e-15,\n",
    "                   'pert_qs_ic_tolerance_test_smg' : 10,\n",
    "                   'method_qs_smg' : 'fully_dynamic',\n",
    "                   'z_fd_qs_smg' : 10.,\n",
    "                   'trigger_mass_qs_smg' : 1.e3,\n",
    "                   'trigger_rad_qs_smg' : 1.e3, \n",
    "                   'eps_s_qs_smg' : 0.01,\n",
    "                   'n_min_qs_smg' : 1e2,\n",
    "                   'n_max_qs_smg' : 1e4,\n",
    "                   'start_small_k_at_tau_c_over_tau_h' : 1e-4,\n",
    "                   'start_large_k_at_tau_h_over_tau_k' : 1e-4,\n",
    "                   'perturb_sampling_stepsize' : 0.05,\n",
    "                   'l_logstep' : 1.045,\n",
    "                   'l_linstep' : 50,\n",
    "                   'gauge':'synchronous'}  "
   ]
  },
  {
   "cell_type": "code",
   "execution_count": 3,
   "id": "3c85600e",
   "metadata": {},
   "outputs": [],
   "source": [
    "# call CLASS\n",
    "#\n",
    "M = Class()\n",
    "M.set(common_settings)\n",
    "M.compute()"
   ]
  },
  {
   "cell_type": "code",
   "execution_count": 4,
   "id": "ba820adc",
   "metadata": {},
   "outputs": [
    {
     "name": "stdout",
     "output_type": "stream",
     "text": [
      "dict_keys(['z', 'proper time [Gyr]', 'conf. time [Mpc]', 'H [1/Mpc]', 'comov. dist.', 'ang.diam.dist.', 'lum. dist.', 'comov.snd.hrz.', '(.)rho_g', '(.)rho_b', '(.)rho_cdm', '(.)rho_ur', '(.)rho_crit', 'gr.fac. D', 'gr.fac. f', '(.)rho_smg', '(.)p_smg', 'M*^2_smg', 'D_M*^2_smg', 'kineticity_smg', 'braiding_smg', 'tensor_excess_smg', 'Mpl_running_smg', 'c_s^2', 'kin (D)', 'kineticity_prime_smg', 'braiding_prime_smg', 'lambda_1', 'lambda_2', 'lambda_3', 'lambda_4', 'lambda_5', 'lambda_6', 'lambda_7', 'lambda_8', 'lambda_9', 'lambda_10', 'lambda_11', 'lambda_2_p', 'lambda_8_p', 'lambda_9_p', 'lambda_11_p', 'cs2num', 'cs2num_p', 'H_prime', 'H_prime_prime', 'rho_m'])\n"
     ]
    }
   ],
   "source": [
    "back = M.get_background() #keys disponiveis do background\n",
    "print(back.keys())"
   ]
  },
  {
   "cell_type": "code",
   "execution_count": 5,
   "id": "491e8cf0",
   "metadata": {},
   "outputs": [],
   "source": [
    "#df = pd.DataFrame(back, columns = ['z', 'proper time [Gyr]', 'conf. time [Mpc]', 'H [1/Mpc]', 'comov. dist.', 'ang.diam.dist.', 'lum. dist.', 'comov.snd.hrz.', '(.)rho_g', '(.)rho_b', '(.)rho_cdm', '(.)rho_ur', '(.)rho_crit', 'gr.fac. D', 'gr.fac. f', '(.)rho_smg', '(.)p_smg', 'M*^2_smg', 'D_M*^2_smg', 'kineticity_smg', 'braiding_smg', 'tensor_excess_smg', 'Mpl_running_smg', 'c_s^2', 'kin (D)', 'kineticity_prime_smg', 'braiding_prime_smg', 'lambda_1', 'lambda_2', 'lambda_3', 'lambda_4', 'lambda_5', 'lambda_6', 'lambda_7', 'lambda_8', 'lambda_9', 'lambda_10', 'lambda_11', 'lambda_2_p', 'lambda_8_p', 'lambda_9_p', 'lambda_11_p', 'cs2num', 'cs2num_p', 'H_prime', 'H_prime_prime', 'rho_m'])\n",
    "\n",
    "#print(df)"
   ]
  },
  {
   "cell_type": "code",
   "execution_count": 6,
   "id": "f18d56b0",
   "metadata": {},
   "outputs": [],
   "source": [
    "alphaB = back['braiding_smg']\n",
    "alphaT = back['tensor_excess_smg']\n",
    "alphaM = back['Mpl_running_smg']\n",
    "rho_m = back['rho_m']\n",
    "H = back['H [1/Mpc]']\n",
    "H_prime = back['H_prime']\n",
    "H_prime_prime = back['H_prime_prime']\n",
    "alphaB_prime = back['braiding_prime_smg']\n",
    "rho_g = back['(.)rho_g']\n",
    "rho_ur = back['(.)rho_ur']\n",
    "M2 = back['M*^2_smg']\n",
    "a = 1/(1 + back['z'])"
   ]
  },
  {
   "cell_type": "code",
   "execution_count": 7,
   "id": "ff8089e4",
   "metadata": {},
   "outputs": [],
   "source": [
    "Omega_m = np.zeros(len(H))\n",
    "qsi = np.zeros(len(H))\n",
    "qsi_p = np.zeros(len(H))\n",
    "\n",
    "for i in range(len(H)):\n",
    "    Omega_m[i] = rho_m[i] / (3.*H[i]*H[i])\n",
    "    qsi[i] = H_prime[i] / (a[i]*H[i]*H[i])\n",
    "    qsi_p[i] = H_prime_prime[i] / (a[i]*H[i]*a[i]*H[i]) - (H_prime[i]*H_prime[i]) / (H[i]*H[i]*a[i]*a[i]*H[i]) - H_prime[i]/(a[i]*H[i])"
   ]
  },
  {
   "cell_type": "code",
   "execution_count": 8,
   "id": "afca98c5",
   "metadata": {},
   "outputs": [],
   "source": [
    "Omega_g = np.zeros(len(H))\n",
    "Omega_ur = np.zeros(len(H))\n",
    "w_matter = np.zeros(len(H))\n",
    "\n",
    "for i in range(len(H)):\n",
    "    Omega_g[i] = rho_g[i] / (3.*H[i]*H[i])\n",
    "    Omega_ur[i] = rho_ur[i] / (3.*H[i]*H[i])\n",
    "    w_matter[i] = (Omega_g[i]/3. + Omega_ur[i]/3.) / Omega_m[i]"
   ]
  },
  {
   "cell_type": "code",
   "execution_count": 9,
   "id": "88594054",
   "metadata": {},
   "outputs": [],
   "source": [
    "Omegam_tildo = np.zeros(len(H))\n",
    "alpha1 = np.zeros(len(H))\n",
    "alpha2 = np.zeros(len(H))\n",
    "mu2 = np.zeros(len(H))\n",
    "\n",
    "for i in range(len(H)):\n",
    "    Omegam_tildo[i] = rho_m[i] / (3.0*H[i]*H[i]*M2[i])\n",
    "    alpha1[i] = alphaB[i] + alphaT[i]*(alphaB[i] - 2.0) + 2.0*alphaM[i]\n",
    "    alpha2[i] = alphaB[i]*qsi[i] + alphaB_prime[i]/(a[i]*H[i]) -2.0*qsi[i] -3.0*(1.0 + w_matter[i])*Omegam_tildo[i]\n",
    "    mu2[i] = -3.0*alphaB[i]*(2.0*qsi[i]*qsi[i] + qsi_p[i] +qsi[i]*(3.0 + alphaM[i])) - 3.0*qsi[i]*alpha2[i]"
   ]
  },
  {
   "cell_type": "code",
   "execution_count": 10,
   "id": "731e0a7a",
   "metadata": {},
   "outputs": [],
   "source": [
    "h1 = np.zeros(len(H))\n",
    "h3 = np.zeros(len(H))\n",
    "h5 = np.zeros(len(H))\n",
    "\n",
    "for i in range(len(H)):\n",
    "    h1[i] = (alphaT[i] + 1.0)/M2[i]\n",
    "    h3[i] = (alpha1[i]*(2.0 - alphaB[i]) + 2.0*alpha2[i])/(2.0*H[i]*H[i]*mu2[i])\n",
    "    h5[i] = (alpha1[i]*(alphaM[i] + 1.0)/(alphaT[i] + 1.0) + alpha2[i])/(H[i]*H[i]*mu2[i])"
   ]
  },
  {
   "cell_type": "code",
   "execution_count": null,
   "id": "05d1df55",
   "metadata": {},
   "outputs": [],
   "source": []
  },
  {
   "cell_type": "code",
   "execution_count": 11,
   "id": "2dc59f63",
   "metadata": {},
   "outputs": [
    {
     "data": {
      "text/plain": [
       "array([1.        , 1.        , 1.        , ..., 0.83084063, 0.83007086,\n",
       "       0.82937373])"
      ]
     },
     "execution_count": 11,
     "metadata": {},
     "output_type": "execute_result"
    }
   ],
   "source": [
    "Geff = np.zeros(len(H))\n",
    "\n",
    "for i in range(len(H)):\n",
    "    Geff[i] = h1[i]*(1.0 +k*k*h5[i])/(1.0 +k*k*h3[i])\n",
    "    \n",
    "Geff"
   ]
  },
  {
   "cell_type": "code",
   "execution_count": 12,
   "id": "0e294e1c",
   "metadata": {
    "scrolled": true
   },
   "outputs": [
    {
     "name": "stdout",
     "output_type": "stream",
     "text": [
      "dict_keys(['tau [Mpc]', 'a', 'delta_g', 'theta_g', 'shear_g', 'pol0_g', 'pol1_g', 'pol2_g', 'delta_b', 'theta_b', 'psi', 'phi', 'delta_ur', 'theta_ur', 'shear_ur', 'delta_cdm', 'theta_cdm', 'V_x_smg', 'V_x_prime_smg', 'h_prime', 'eta', 'Geff_smg'])\n"
     ]
    },
    {
     "data": {
      "text/plain": [
       "array([1.        , 1.        , 1.        , 1.        , 1.        ,\n",
       "       1.        , 1.        , 1.        , 1.        , 1.        ,\n",
       "       1.        , 1.        , 1.        , 1.        , 1.        ,\n",
       "       1.        , 1.        , 1.        , 1.        , 1.        ,\n",
       "       1.        , 1.        , 1.        , 1.        , 1.        ,\n",
       "       1.        , 1.        , 1.        , 1.        , 1.        ,\n",
       "       1.        , 1.        , 1.        , 1.        , 1.        ,\n",
       "       1.        , 1.        , 1.        , 1.        , 1.        ,\n",
       "       1.        , 1.        , 1.        , 1.        , 1.        ,\n",
       "       1.        , 1.        , 1.        , 1.        , 1.        ,\n",
       "       1.        , 1.        , 1.        , 1.        , 1.        ,\n",
       "       1.        , 1.        , 1.        , 1.        , 1.        ,\n",
       "       1.        , 1.        , 1.        , 1.        , 1.        ,\n",
       "       1.        , 1.        , 1.        , 1.        , 1.        ,\n",
       "       1.        , 1.        , 1.        , 1.        , 1.        ,\n",
       "       1.        , 1.        , 1.        , 1.        , 1.        ,\n",
       "       1.        , 1.        , 1.        , 1.        , 1.        ,\n",
       "       1.        , 1.        , 1.        , 1.        , 1.        ,\n",
       "       1.        , 1.        , 1.        , 1.        , 1.        ,\n",
       "       1.        , 1.        , 1.        , 1.        , 1.        ,\n",
       "       1.        , 1.        , 1.        , 1.        , 1.        ,\n",
       "       1.        , 1.        , 1.        , 1.        , 1.        ,\n",
       "       1.        , 1.        , 1.        , 1.        , 1.        ,\n",
       "       1.        , 1.        , 1.        , 1.        , 1.        ,\n",
       "       1.        , 1.        , 1.        , 1.        , 1.        ,\n",
       "       1.        , 1.        , 1.        , 1.        , 1.        ,\n",
       "       1.        , 1.        , 1.        , 1.        , 1.        ,\n",
       "       1.        , 1.        , 1.        , 1.        , 1.        ,\n",
       "       1.        , 1.        , 1.        , 1.        , 1.        ,\n",
       "       1.        , 1.        , 1.        , 1.        , 1.        ,\n",
       "       1.        , 1.        , 1.        , 1.        , 1.        ,\n",
       "       1.        , 1.        , 1.        , 1.        , 1.        ,\n",
       "       1.        , 1.        , 1.        , 1.        , 1.        ,\n",
       "       1.        , 1.        , 1.        , 1.        , 1.        ,\n",
       "       1.        , 1.        , 1.        , 1.        , 1.        ,\n",
       "       1.        , 1.        , 1.        , 1.        , 1.        ,\n",
       "       1.        , 1.        , 1.        , 1.        , 1.        ,\n",
       "       1.        , 1.        , 1.        , 1.        , 1.        ,\n",
       "       1.        , 1.        , 1.        , 1.        , 1.        ,\n",
       "       1.        , 1.        , 1.        , 1.        , 1.        ,\n",
       "       1.        , 1.        , 1.        , 1.        , 1.        ,\n",
       "       1.        , 1.        , 1.        , 1.        , 1.        ,\n",
       "       1.        , 1.        , 1.        , 1.        , 1.        ,\n",
       "       1.        , 1.        , 1.        , 0.99999999, 0.99999999,\n",
       "       0.99999999, 0.99999999, 0.99999999, 0.99999999, 0.99999999,\n",
       "       0.99999999, 0.99999999, 0.99999999, 0.99999999, 0.99999998,\n",
       "       0.99999998, 0.99999998, 0.99999998, 0.99999997, 0.99999997,\n",
       "       0.99999997, 0.99999997, 0.99999996, 0.99999996, 0.99999995,\n",
       "       0.99999995, 0.99999994, 0.99999994, 0.99999993, 0.99999992,\n",
       "       0.99999992, 0.99999991, 0.9999999 , 0.99999988, 0.99999987,\n",
       "       0.99999985, 0.99999983, 0.99999982, 0.99999979, 0.99999976,\n",
       "       0.99999973, 0.99999968, 0.99999964, 0.99999959, 0.99999953,\n",
       "       0.99999946, 0.99999938, 0.99999928, 0.99999917, 0.99999904,\n",
       "       0.9999989 , 0.99999874, 0.99999857, 0.99999832, 0.99999804,\n",
       "       0.99999773, 0.99999737, 0.99999697, 0.99999651, 0.99999601,\n",
       "       0.99999536, 0.99999463, 0.9999938 , 0.99999288, 0.99999184,\n",
       "       0.99999068, 0.99998938, 0.99998777, 0.99998595, 0.99998391,\n",
       "       0.99998164, 0.99997911, 0.99997629, 0.99997316, 0.99996897,\n",
       "       0.99996426, 0.99995897, 0.99995304, 0.99994641, 0.99993903,\n",
       "       0.99993082, 0.99992134, 0.99991081, 0.99989914, 0.99988621,\n",
       "       0.99987194, 0.99986723, 0.99986238, 0.99985738, 0.99985223,\n",
       "       0.99984693, 0.99984147, 0.99983717, 0.99983278, 0.99982829,\n",
       "       0.99982473, 0.99982112, 0.99981744, 0.9998137 , 0.9998106 ,\n",
       "       0.99980746, 0.99980427, 0.99980103, 0.99979776, 0.99979444,\n",
       "       0.99979107, 0.99978735, 0.99978357, 0.99978059, 0.99977757,\n",
       "       0.99977475, 0.99977191, 0.99976973, 0.99976754, 0.99976533,\n",
       "       0.9997631 , 0.99976086, 0.99975847, 0.99975605, 0.99975362,\n",
       "       0.99975117, 0.9997487 , 0.99974621, 0.99974219, 0.99973811,\n",
       "       0.99973399, 0.9997298 , 0.99972557, 0.99972128, 0.99971693,\n",
       "       0.99971071, 0.99970438, 0.99969793, 0.99969137, 0.99968469,\n",
       "       0.99967789, 0.99966893, 0.99965976, 0.99965038, 0.99964079,\n",
       "       0.99963098, 0.99962095, 0.99961069, 0.9995905 , 0.99956944,\n",
       "       0.9995475 , 0.99952463, 0.9995008 , 0.99947599, 0.99943804,\n",
       "       0.99939784, 0.99935527, 0.99931023, 0.9992626 , 0.99921226,\n",
       "       0.99914193, 0.99906644, 0.99898552, 0.99889884, 0.99880609,\n",
       "       0.99870693, 0.99856784, 0.99841653, 0.99825216, 0.99807385,\n",
       "       0.99788068, 0.99767169, 0.99744585, 0.99714234, 0.99680948,\n",
       "       0.99644506, 0.99604678, 0.99561221, 0.99513878, 0.99462382,\n",
       "       0.99402467, 0.99337134, 0.99266011, 0.99188705, 0.99104808,\n",
       "       0.99013896, 0.98915525, 0.98796299, 0.98666539, 0.98525558,\n",
       "       0.98372645, 0.98207069, 0.98028078, 0.97834905, 0.97615439,\n",
       "       0.97378474, 0.97123082, 0.9684833 , 0.965533  , 0.96237091,\n",
       "       0.95898835, 0.9549416 , 0.95059941, 0.94595272, 0.9409943 ,\n",
       "       0.93571926, 0.93012572, 0.92421558, 0.91782654, 0.91112436,\n",
       "       0.90413041, 0.89687576, 0.88940314, 0.88176934, 0.87404771,\n",
       "       0.86552328, 0.85716197, 0.84915693, 0.84173931, 0.83517552,\n",
       "       0.82937373])"
      ]
     },
     "execution_count": 12,
     "metadata": {},
     "output_type": "execute_result"
    }
   ],
   "source": [
    "all_k = M.get_perturbations() #Geff_smg(a) para k fixo\n",
    "print(all_k['scalar'][0].keys())\n",
    "\n",
    "perturb = all_k['scalar'][0]\n",
    "perturb['Geff_smg']"
   ]
  },
  {
   "cell_type": "code",
   "execution_count": 13,
   "id": "5cdad00a",
   "metadata": {},
   "outputs": [],
   "source": [
    "a = perturb['a']"
   ]
  },
  {
   "cell_type": "code",
   "execution_count": 14,
   "id": "fce2e07b",
   "metadata": {},
   "outputs": [
    {
     "data": {
      "image/png": "[encoded data removed]",
      "text/plain": [
       "<Figure size 576x432 with 1 Axes>"
      ]
     },
     "metadata": {
      "needs_background": "light"
     },
     "output_type": "display_data"
    }
   ],
   "source": [
    "plt.plot(perturb['a'], perturb['Geff_smg'], 'r--')\n",
    "plt.show()"
   ]
  },
  {
   "cell_type": "code",
   "execution_count": 15,
   "id": "5ae5f329",
   "metadata": {},
   "outputs": [
    {
     "data": {
      "image/png": "[encoded data removed]",
      "text/plain": [
       "<Figure size 576x432 with 1 Axes>"
      ]
     },
     "metadata": {
      "needs_background": "light"
     },
     "output_type": "display_data"
    }
   ],
   "source": [
    "plt.plot(1/(1+back['z']), Geff, 'r--')\n",
    "plt.show()"
   ]
  },
  {
   "cell_type": "code",
   "execution_count": null,
   "id": "90290075",
   "metadata": {},
   "outputs": [],
   "source": []
  }
 ],
 "metadata": {
  "kernelspec": {
   "display_name": "Python 3 (ipykernel)",
   "language": "python",
   "name": "python3"
  },
  "language_info": {
   "codemirror_mode": {
    "name": "ipython",
    "version": 3
   },
   "file_extension": ".py",
   "mimetype": "text/x-python",
   "name": "python",
   "nbconvert_exporter": "python",
   "pygments_lexer": "ipython3",
   "version": "3.9.7"
  }
 },
 "nbformat": 4,
 "nbformat_minor": 5
}
